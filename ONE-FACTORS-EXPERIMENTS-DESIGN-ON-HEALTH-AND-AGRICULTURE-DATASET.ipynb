{
 "cells": [
  {
   "cell_type": "markdown",
   "id": "middle-livestock",
   "metadata": {},
   "source": [
    "<h3>1- ONE FACTORS EXPERIMENTS DESIGN ON THE AGRICULTURE DATASET ( CRD , RBD, LSD)</h3>"
   ]
  },
  {
   "cell_type": "markdown",
   "id": "growing-creation",
   "metadata": {},
   "source": [
    "<h5>1-Agriculture Completely Randomized Design (CRD) dataset</h5>"
   ]
  },
  {
   "cell_type": "markdown",
   "id": "white-suggestion",
   "metadata": {},
   "source": [
    "<h5>Description of the dataset</h5>\n",
    "\n",
    "The dataset comprises observations on three crop varieties (Tomato, Carrot, Cucumber) across 20 replications, each associated with a growth measurement. The dataset follows a balanced experimental design, allowing for comparisons of average growth and variability within each crop. It is suitable for analyses aimed at understanding and comparing the growth characteristics of the three crops over different replication periods."
   ]
  },
  {
   "cell_type": "code",
   "execution_count": null,
   "id": "acb32029",
   "metadata": {},
   "outputs": [],
   "source": [
    "# Import necessary libraries\n",
    "import pandas as pd\n",
    "import statsmodels.api as sm\n",
    "from statsmodels.formula.api import ols\n",
    "import matplotlib.pyplot as plt"
   ]
  },
  {
   "cell_type": "code",
   "execution_count": 35,
   "id": "seventh-recommendation",
   "metadata": {},
   "outputs": [
    {
     "data": {
      "text/html": [
       "<div>\n",
       "<style scoped>\n",
       "    .dataframe tbody tr th:only-of-type {\n",
       "        vertical-align: middle;\n",
       "    }\n",
       "\n",
       "    .dataframe tbody tr th {\n",
       "        vertical-align: top;\n",
       "    }\n",
       "\n",
       "    .dataframe thead th {\n",
       "        text-align: right;\n",
       "    }\n",
       "</style>\n",
       "<table border=\"1\" class=\"dataframe\">\n",
       "  <thead>\n",
       "    <tr style=\"text-align: right;\">\n",
       "      <th></th>\n",
       "      <th>Crop</th>\n",
       "      <th>Replication</th>\n",
       "      <th>Growth</th>\n",
       "    </tr>\n",
       "  </thead>\n",
       "  <tbody>\n",
       "    <tr>\n",
       "      <th>0</th>\n",
       "      <td>Tomato</td>\n",
       "      <td>1</td>\n",
       "      <td>28</td>\n",
       "    </tr>\n",
       "    <tr>\n",
       "      <th>1</th>\n",
       "      <td>Carrot</td>\n",
       "      <td>1</td>\n",
       "      <td>35</td>\n",
       "    </tr>\n",
       "    <tr>\n",
       "      <th>2</th>\n",
       "      <td>Cucumber</td>\n",
       "      <td>1</td>\n",
       "      <td>30</td>\n",
       "    </tr>\n",
       "    <tr>\n",
       "      <th>3</th>\n",
       "      <td>Tomato</td>\n",
       "      <td>2</td>\n",
       "      <td>31</td>\n",
       "    </tr>\n",
       "    <tr>\n",
       "      <th>4</th>\n",
       "      <td>Carrot</td>\n",
       "      <td>2</td>\n",
       "      <td>38</td>\n",
       "    </tr>\n",
       "  </tbody>\n",
       "</table>\n",
       "</div>"
      ],
      "text/plain": [
       "       Crop  Replication  Growth\n",
       "0    Tomato            1      28\n",
       "1    Carrot            1      35\n",
       "2  Cucumber            1      30\n",
       "3    Tomato            2      31\n",
       "4    Carrot            2      38"
      ]
     },
     "execution_count": 35,
     "metadata": {},
     "output_type": "execute_result"
    }
   ],
   "source": [
    "# Load Agriculture Completely Randomized Design (CRD) dataset\n",
    "Data_Ag_CRD = pd.read_csv(\"CRD_1.csv\")\n",
    "# Display the first few rows of the CRD dataset\n",
    "Data_Ag_CRD.head()"
   ]
  },
  {
   "cell_type": "markdown",
   "id": "rising-murder",
   "metadata": {},
   "source": [
    "Null Hypothesis (H0): There is no significant difference in the mean growth of plants across different crop types.\n",
    "\n",
    "Alternative Hypothesis (H1): There is a significant difference in the mean growth of plants across different crop types.\n",
    "\n",
    "From our dataset :\n",
    "\n",
    "Dependent Variable (Response Variable): Growth , Independent Variable (Factor): Crop "
   ]
  },
  {
   "cell_type": "markdown",
   "id": "diverse-cookbook",
   "metadata": {},
   "source": [
    "###### TEST ANOVA ON THE MODEL"
   ]
  },
  {
   "cell_type": "code",
   "execution_count": 37,
   "id": "about-symphony",
   "metadata": {},
   "outputs": [
    {
     "data": {
      "text/html": [
       "<div>\n",
       "<style scoped>\n",
       "    .dataframe tbody tr th:only-of-type {\n",
       "        vertical-align: middle;\n",
       "    }\n",
       "\n",
       "    .dataframe tbody tr th {\n",
       "        vertical-align: top;\n",
       "    }\n",
       "\n",
       "    .dataframe thead th {\n",
       "        text-align: right;\n",
       "    }\n",
       "</style>\n",
       "<table border=\"1\" class=\"dataframe\">\n",
       "  <thead>\n",
       "    <tr style=\"text-align: right;\">\n",
       "      <th></th>\n",
       "      <th>sum_sq</th>\n",
       "      <th>df</th>\n",
       "      <th>F</th>\n",
       "      <th>PR(&gt;F)</th>\n",
       "    </tr>\n",
       "  </thead>\n",
       "  <tbody>\n",
       "    <tr>\n",
       "      <th>Crop</th>\n",
       "      <td>520.0</td>\n",
       "      <td>2.0</td>\n",
       "      <td>123.5</td>\n",
       "      <td>1.907815e-21</td>\n",
       "    </tr>\n",
       "    <tr>\n",
       "      <th>Residual</th>\n",
       "      <td>120.0</td>\n",
       "      <td>57.0</td>\n",
       "      <td>NaN</td>\n",
       "      <td>NaN</td>\n",
       "    </tr>\n",
       "  </tbody>\n",
       "</table>\n",
       "</div>"
      ],
      "text/plain": [
       "          sum_sq    df      F        PR(>F)\n",
       "Crop       520.0   2.0  123.5  1.907815e-21\n",
       "Residual   120.0  57.0    NaN           NaN"
      ]
     },
     "execution_count": 37,
     "metadata": {},
     "output_type": "execute_result"
    }
   ],
   "source": [
    "# Fit the ANOVA model for Agriculture CRD\n",
    "model_Data_Ag_CRD = ols('Growth ~ Crop', data=Data_Ag_CRD).fit()\n",
    "\n",
    "# Print ANOVA table for Agriculture CRD\n",
    "anova_table_model_Data_Ag_CRD = sm.stats.anova_lm(model_Data_Ag_CRD, typ=2)\n",
    "anova_table_model_Data_Ag_CRD"
   ]
  },
  {
   "cell_type": "markdown",
   "id": "affected-canyon",
   "metadata": {},
   "source": [
    "The p-value associated with the F-statistic for the $\\textit{Crop}$ factor is extremely small, leading to the rejection of the null hypothesis.\n",
    "\n",
    "Strong evidence suggests that the mean $\\textit{Growth}$ values for the different crop types are not equal.\n",
    "The specific crops (Tomato, Carrot, Cucumber) have a significant impact on the observed differences in plant growth.\n",
    "\n",
    "\n",
    "In summary, the ANOVA analysis indicates that the choice of crop significantly influences the growth of plants, with differences between crop types being highly statistically significant.\n"
   ]
  },
  {
   "cell_type": "markdown",
   "id": "under-spray",
   "metadata": {},
   "source": [
    "<h5>2-Agriculture Randomized Block Design (RBD) dataset</h5>"
   ]
  },
  {
   "cell_type": "markdown",
   "id": "suburban-extreme",
   "metadata": {},
   "source": [
    "<h5>Description of the dataset</h5>\n",
    "\n",
    "The dataset speaks to an rural explore including distinctive fertilizer medicines (Fertilizer_A, Fertilizer_B, Fertilizer_C) connected to soil pieces in different replications. The recorded variable is the surrender gotten from each combination of treatment, soil square, and replication. The dataset structure recommends a factorial test plan with three variables: Treatment, SoilBlock, and Replication, making it appropriate for analyzing the impacts of diverse fertilizers on edit abdicate over different conditions."
   ]
  },
  {
   "cell_type": "code",
   "execution_count": 19,
   "id": "dutch-assets",
   "metadata": {},
   "outputs": [
    {
     "data": {
      "text/html": [
       "<div>\n",
       "<style scoped>\n",
       "    .dataframe tbody tr th:only-of-type {\n",
       "        vertical-align: middle;\n",
       "    }\n",
       "\n",
       "    .dataframe tbody tr th {\n",
       "        vertical-align: top;\n",
       "    }\n",
       "\n",
       "    .dataframe thead th {\n",
       "        text-align: right;\n",
       "    }\n",
       "</style>\n",
       "<table border=\"1\" class=\"dataframe\">\n",
       "  <thead>\n",
       "    <tr style=\"text-align: right;\">\n",
       "      <th></th>\n",
       "      <th>Treatment</th>\n",
       "      <th>SoilBlock</th>\n",
       "      <th>Replication</th>\n",
       "      <th>Yield</th>\n",
       "    </tr>\n",
       "  </thead>\n",
       "  <tbody>\n",
       "    <tr>\n",
       "      <th>0</th>\n",
       "      <td>Fertilizer_A</td>\n",
       "      <td>1</td>\n",
       "      <td>1</td>\n",
       "      <td>15</td>\n",
       "    </tr>\n",
       "    <tr>\n",
       "      <th>1</th>\n",
       "      <td>Fertilizer_B</td>\n",
       "      <td>1</td>\n",
       "      <td>1</td>\n",
       "      <td>18</td>\n",
       "    </tr>\n",
       "    <tr>\n",
       "      <th>2</th>\n",
       "      <td>Fertilizer_C</td>\n",
       "      <td>1</td>\n",
       "      <td>1</td>\n",
       "      <td>14</td>\n",
       "    </tr>\n",
       "    <tr>\n",
       "      <th>3</th>\n",
       "      <td>Fertilizer_A</td>\n",
       "      <td>2</td>\n",
       "      <td>2</td>\n",
       "      <td>17</td>\n",
       "    </tr>\n",
       "    <tr>\n",
       "      <th>4</th>\n",
       "      <td>Fertilizer_B</td>\n",
       "      <td>2</td>\n",
       "      <td>2</td>\n",
       "      <td>16</td>\n",
       "    </tr>\n",
       "  </tbody>\n",
       "</table>\n",
       "</div>"
      ],
      "text/plain": [
       "      Treatment  SoilBlock  Replication  Yield\n",
       "0  Fertilizer_A          1            1     15\n",
       "1  Fertilizer_B          1            1     18\n",
       "2  Fertilizer_C          1            1     14\n",
       "3  Fertilizer_A          2            2     17\n",
       "4  Fertilizer_B          2            2     16"
      ]
     },
     "execution_count": 19,
     "metadata": {},
     "output_type": "execute_result"
    }
   ],
   "source": [
    "# Load Agriculture Randomized Block Design (RBD) dataset\n",
    "Data_Ag_RBD = pd.read_csv(\"RBD_1.csv\")\n",
    "\n",
    "# Display the first few rows of the RBD dataset\n",
    "Data_Ag_RBD.head()"
   ]
  },
  {
   "cell_type": "markdown",
   "id": "simplified-singer",
   "metadata": {},
   "source": [
    "Null Hypothesis (H0): There is no significant difference in the mean crop yield among different treatments (fertilizers) and soil blocks.\n",
    "\n",
    "Alternative Hypothesis (H1): There is a significant difference in the mean crop yield among different treatments (fertilizers) and soil blocks.\n",
    "\n",
    "For our dataset:\n",
    "\n",
    "Dependent Variable (Response Variable): Yield, Independent Variables (Factors): Treatment (Fertilizer), SoilBlock"
   ]
  },
  {
   "cell_type": "markdown",
   "id": "beneficial-ambassador",
   "metadata": {},
   "source": [
    "###### TEST ANOVA ON THE MODEL"
   ]
  },
  {
   "cell_type": "code",
   "execution_count": 38,
   "id": "international-yorkshire",
   "metadata": {},
   "outputs": [
    {
     "data": {
      "text/html": [
       "<div>\n",
       "<style scoped>\n",
       "    .dataframe tbody tr th:only-of-type {\n",
       "        vertical-align: middle;\n",
       "    }\n",
       "\n",
       "    .dataframe tbody tr th {\n",
       "        vertical-align: top;\n",
       "    }\n",
       "\n",
       "    .dataframe thead th {\n",
       "        text-align: right;\n",
       "    }\n",
       "</style>\n",
       "<table border=\"1\" class=\"dataframe\">\n",
       "  <thead>\n",
       "    <tr style=\"text-align: right;\">\n",
       "      <th></th>\n",
       "      <th>sum_sq</th>\n",
       "      <th>df</th>\n",
       "      <th>F</th>\n",
       "      <th>PR(&gt;F)</th>\n",
       "    </tr>\n",
       "  </thead>\n",
       "  <tbody>\n",
       "    <tr>\n",
       "      <th>C(Treatment)</th>\n",
       "      <td>1.476190</td>\n",
       "      <td>2.0</td>\n",
       "      <td>0.190899</td>\n",
       "      <td>0.827024</td>\n",
       "    </tr>\n",
       "    <tr>\n",
       "      <th>C(SoilBlock)</th>\n",
       "      <td>21.300000</td>\n",
       "      <td>2.0</td>\n",
       "      <td>2.754494</td>\n",
       "      <td>0.076708</td>\n",
       "    </tr>\n",
       "    <tr>\n",
       "      <th>Residual</th>\n",
       "      <td>143.057143</td>\n",
       "      <td>37.0</td>\n",
       "      <td>NaN</td>\n",
       "      <td>NaN</td>\n",
       "    </tr>\n",
       "  </tbody>\n",
       "</table>\n",
       "</div>"
      ],
      "text/plain": [
       "                  sum_sq    df         F    PR(>F)\n",
       "C(Treatment)    1.476190   2.0  0.190899  0.827024\n",
       "C(SoilBlock)   21.300000   2.0  2.754494  0.076708\n",
       "Residual      143.057143  37.0       NaN       NaN"
      ]
     },
     "execution_count": 38,
     "metadata": {},
     "output_type": "execute_result"
    }
   ],
   "source": [
    "# Perform the RBD analysis using ANOVA for Agriculture\n",
    "model_Data_Ag_RBD = ols('Yield ~ C(Treatment) + C(SoilBlock)', data=Data_Ag_RBD).fit()\n",
    "\n",
    "# Print the ANOVA table for Agriculture RBD\n",
    "anova_table_model_Data_Ag_RBD = sm.stats.anova_lm(model_Data_Ag_RBD, typ=2)\n",
    "anova_table_model_Data_Ag_RBD"
   ]
  },
  {
   "cell_type": "markdown",
   "id": "temporal-washington",
   "metadata": {},
   "source": [
    "The p-value associated with the F-statistic for the $\\textit{Treatment}$ factor is 0.827024, which is greater than the significance level (e.g., 0.05). \n",
    "This suggests that there is no significant difference in the mean response variable among different treatments.\n",
    "The p-value for the $\\textit{SoilBlock}$ factor is 0.076708, which is close to the typical significance level. \n",
    "There is some evidence to suggest that the mean response variable may vary between different soil blocks, but the evidence is not strong enough to reach statistical significance at a conventional threshold.\n",
    "The Residual row represents unexplained variability, and the F-statistic and p-value for the Residual row are not applicable.\n",
    "\n",
    "In summary, the ANOVA analysis suggests that, based on the provided p-values, there is no strong evidence of significant differences in the mean response variable among different treatments. \n",
    "There is a suggestion that the choice of soil block might have some impact, but this evidence is not strong enough to be considered statistically significant at a typical threshold."
   ]
  },
  {
   "cell_type": "markdown",
   "id": "primary-bermuda",
   "metadata": {},
   "source": [
    "<h5>3-Agriculture Latin Square Design (LSD) dataset</h5>"
   ]
  },
  {
   "cell_type": "markdown",
   "id": "employed-jerusalem",
   "metadata": {},
   "source": [
    "<h5>Description of the dataset</h5>\n",
    "\n",
    "The dataset represents an agricultural experiment involving different crop varieties (Wheat, Barley, Corn) planted in rows and columns across multiple replications. The recorded variable is the growth observed for each combination of crop variety, row, column, and replication. The dataset structure suggests a factorial experimental design with four factors: CropVariety, Row, Column, and Replication. The data can be analyzed to understand the effects of different crop varieties, row positions, and column positions on crop growth, considering replication as a source of variation."
   ]
  },
  {
   "cell_type": "code",
   "execution_count": 21,
   "id": "intense-institution",
   "metadata": {},
   "outputs": [
    {
     "data": {
      "text/html": [
       "<div>\n",
       "<style scoped>\n",
       "    .dataframe tbody tr th:only-of-type {\n",
       "        vertical-align: middle;\n",
       "    }\n",
       "\n",
       "    .dataframe tbody tr th {\n",
       "        vertical-align: top;\n",
       "    }\n",
       "\n",
       "    .dataframe thead th {\n",
       "        text-align: right;\n",
       "    }\n",
       "</style>\n",
       "<table border=\"1\" class=\"dataframe\">\n",
       "  <thead>\n",
       "    <tr style=\"text-align: right;\">\n",
       "      <th></th>\n",
       "      <th>CropVariety</th>\n",
       "      <th>Row</th>\n",
       "      <th>Column</th>\n",
       "      <th>Replication</th>\n",
       "      <th>Growth</th>\n",
       "    </tr>\n",
       "  </thead>\n",
       "  <tbody>\n",
       "    <tr>\n",
       "      <th>0</th>\n",
       "      <td>Wheat</td>\n",
       "      <td>1</td>\n",
       "      <td>1</td>\n",
       "      <td>1</td>\n",
       "      <td>15</td>\n",
       "    </tr>\n",
       "    <tr>\n",
       "      <th>1</th>\n",
       "      <td>Barley</td>\n",
       "      <td>2</td>\n",
       "      <td>2</td>\n",
       "      <td>1</td>\n",
       "      <td>18</td>\n",
       "    </tr>\n",
       "    <tr>\n",
       "      <th>2</th>\n",
       "      <td>Corn</td>\n",
       "      <td>3</td>\n",
       "      <td>3</td>\n",
       "      <td>1</td>\n",
       "      <td>14</td>\n",
       "    </tr>\n",
       "    <tr>\n",
       "      <th>3</th>\n",
       "      <td>Wheat</td>\n",
       "      <td>2</td>\n",
       "      <td>3</td>\n",
       "      <td>2</td>\n",
       "      <td>17</td>\n",
       "    </tr>\n",
       "    <tr>\n",
       "      <th>4</th>\n",
       "      <td>Barley</td>\n",
       "      <td>3</td>\n",
       "      <td>1</td>\n",
       "      <td>2</td>\n",
       "      <td>16</td>\n",
       "    </tr>\n",
       "  </tbody>\n",
       "</table>\n",
       "</div>"
      ],
      "text/plain": [
       "  CropVariety  Row  Column  Replication  Growth\n",
       "0       Wheat    1       1            1      15\n",
       "1      Barley    2       2            1      18\n",
       "2        Corn    3       3            1      14\n",
       "3       Wheat    2       3            2      17\n",
       "4      Barley    3       1            2      16"
      ]
     },
     "execution_count": 21,
     "metadata": {},
     "output_type": "execute_result"
    }
   ],
   "source": [
    "# Load Agriculture Latin Square Design (LSD) dataset\n",
    "Data_Ag_LSD = pd.read_csv(\"LSD_1.csv\")\n",
    "\n",
    "# Display the first few rows of the LSD dataset\n",
    "Data_Ag_LSD.head()"
   ]
  },
  {
   "cell_type": "markdown",
   "id": "bored-marina",
   "metadata": {},
   "source": [
    "Null Hypothesis (H0): There is no significant difference in the mean plant growth among different crop varieties, rows, columns, and replications.\n",
    "\n",
    "Alternative Hypothesis (H1): There is a significant difference in the mean plant growth among different crop varieties, rows, columns, and replications.\n",
    "\n",
    "In the context of the dataset you provided:\n",
    "\n",
    "Dependent Variable (Response Variable): Growth, Independent Variables (Factors): CropVariety, Row, Column, Replication"
   ]
  },
  {
   "cell_type": "markdown",
   "id": "located-assets",
   "metadata": {},
   "source": [
    "######  TEST ANOVA ON THE MODEL"
   ]
  },
  {
   "cell_type": "code",
   "execution_count": 39,
   "id": "artistic-validation",
   "metadata": {},
   "outputs": [
    {
     "data": {
      "text/html": [
       "<div>\n",
       "<style scoped>\n",
       "    .dataframe tbody tr th:only-of-type {\n",
       "        vertical-align: middle;\n",
       "    }\n",
       "\n",
       "    .dataframe tbody tr th {\n",
       "        vertical-align: top;\n",
       "    }\n",
       "\n",
       "    .dataframe thead th {\n",
       "        text-align: right;\n",
       "    }\n",
       "</style>\n",
       "<table border=\"1\" class=\"dataframe\">\n",
       "  <thead>\n",
       "    <tr style=\"text-align: right;\">\n",
       "      <th></th>\n",
       "      <th>df</th>\n",
       "      <th>sum_sq</th>\n",
       "      <th>mean_sq</th>\n",
       "      <th>F</th>\n",
       "      <th>PR(&gt;F)</th>\n",
       "    </tr>\n",
       "  </thead>\n",
       "  <tbody>\n",
       "    <tr>\n",
       "      <th>C(CropVariety)</th>\n",
       "      <td>2.0</td>\n",
       "      <td>20.066667</td>\n",
       "      <td>10.033333</td>\n",
       "      <td>3.964801</td>\n",
       "      <td>0.033156</td>\n",
       "    </tr>\n",
       "    <tr>\n",
       "      <th>C(Row)</th>\n",
       "      <td>2.0</td>\n",
       "      <td>13.145455</td>\n",
       "      <td>6.572727</td>\n",
       "      <td>2.597298</td>\n",
       "      <td>0.096153</td>\n",
       "    </tr>\n",
       "    <tr>\n",
       "      <th>C(Column)</th>\n",
       "      <td>2.0</td>\n",
       "      <td>9.550699</td>\n",
       "      <td>4.775350</td>\n",
       "      <td>1.887041</td>\n",
       "      <td>0.174242</td>\n",
       "    </tr>\n",
       "    <tr>\n",
       "      <th>Residual</th>\n",
       "      <td>23.0</td>\n",
       "      <td>58.203846</td>\n",
       "      <td>2.530602</td>\n",
       "      <td>NaN</td>\n",
       "      <td>NaN</td>\n",
       "    </tr>\n",
       "  </tbody>\n",
       "</table>\n",
       "</div>"
      ],
      "text/plain": [
       "                  df     sum_sq    mean_sq         F    PR(>F)\n",
       "C(CropVariety)   2.0  20.066667  10.033333  3.964801  0.033156\n",
       "C(Row)           2.0  13.145455   6.572727  2.597298  0.096153\n",
       "C(Column)        2.0   9.550699   4.775350  1.887041  0.174242\n",
       "Residual        23.0  58.203846   2.530602       NaN       NaN"
      ]
     },
     "execution_count": 39,
     "metadata": {},
     "output_type": "execute_result"
    }
   ],
   "source": [
    "# Perform ANOVA for Agriculture LSD\n",
    "model_Data_Ag_LSD = sm.formula.ols('Growth ~ C(CropVariety) + C(Row) + C(Column)', data=Data_Ag_LSD).fit()\n",
    "\n",
    "# Print ANOVA table for Agriculture LSD\n",
    "anova_table_model_Data_Ag_LSD = sm.stats.anova_lm(model_Data_Ag_LSD)\n",
    "\n",
    "# Print the ANOVA table for Agriculture LSD\n",
    "anova_table_model_Data_Ag_LSD"
   ]
  },
  {
   "cell_type": "markdown",
   "id": "advance-rocket",
   "metadata": {},
   "source": [
    "For CropVariety, the p-value is less than 0.05, indicating a significant difference in mean response among different crop varieties.\n",
    "For Row, the p-value is close to 0.05, suggesting some evidence of a difference, but not strong enough to reach statistical significance.\n",
    "For Column, the p-value is greater than 0.05, suggesting no significant difference in mean response among different columns.\n",
    "The Residual row represents unexplained variability, and the F-statistic and p-value for the Residual row are not applicable.\n",
    "\n",
    "In conclusion, the type of crop variety has a significant impact on the mean response, while the row and column factors show mixed evidence, with row having a borderline significance and column not being significant at the 0.05 threshold."
   ]
  },
  {
   "cell_type": "markdown",
   "id": "complex-hometown",
   "metadata": {},
   "source": [
    "<h3>2- ONE FACTOR EXPERIMENT DESIGN ON HEATH DATASET ( CRD, RBD, LSD)</h3>"
   ]
  },
  {
   "cell_type": "markdown",
   "id": "associate-street",
   "metadata": {},
   "source": [
    "<h5>1-Health Completely Randomized Design (CRD) dataset</h5>"
   ]
  },
  {
   "cell_type": "markdown",
   "id": "alert-horror",
   "metadata": {},
   "source": [
    "<h5>Description of the dataset</h5>\n",
    "\n",
    "The dataset speaks to an explore including distinctive treatment sorts (TherapyA, TherapyB, Control) managed over different replications, with the recorded variable being the recuperation time. Each push within the dataset compares to a special combination of treatment sort and replication, and the related recuperation time recorded."
   ]
  },
  {
   "cell_type": "code",
   "execution_count": 23,
   "id": "alive-improvement",
   "metadata": {},
   "outputs": [
    {
     "data": {
      "text/html": [
       "<div>\n",
       "<style scoped>\n",
       "    .dataframe tbody tr th:only-of-type {\n",
       "        vertical-align: middle;\n",
       "    }\n",
       "\n",
       "    .dataframe tbody tr th {\n",
       "        vertical-align: top;\n",
       "    }\n",
       "\n",
       "    .dataframe thead th {\n",
       "        text-align: right;\n",
       "    }\n",
       "</style>\n",
       "<table border=\"1\" class=\"dataframe\">\n",
       "  <thead>\n",
       "    <tr style=\"text-align: right;\">\n",
       "      <th></th>\n",
       "      <th>TreatmentType</th>\n",
       "      <th>Replication</th>\n",
       "      <th>RecoveryTime</th>\n",
       "    </tr>\n",
       "  </thead>\n",
       "  <tbody>\n",
       "    <tr>\n",
       "      <th>0</th>\n",
       "      <td>TherapyA</td>\n",
       "      <td>1</td>\n",
       "      <td>10</td>\n",
       "    </tr>\n",
       "    <tr>\n",
       "      <th>1</th>\n",
       "      <td>TherapyB</td>\n",
       "      <td>1</td>\n",
       "      <td>12</td>\n",
       "    </tr>\n",
       "    <tr>\n",
       "      <th>2</th>\n",
       "      <td>Control</td>\n",
       "      <td>1</td>\n",
       "      <td>11</td>\n",
       "    </tr>\n",
       "    <tr>\n",
       "      <th>3</th>\n",
       "      <td>TherapyA</td>\n",
       "      <td>2</td>\n",
       "      <td>9</td>\n",
       "    </tr>\n",
       "    <tr>\n",
       "      <th>4</th>\n",
       "      <td>TherapyB</td>\n",
       "      <td>2</td>\n",
       "      <td>11</td>\n",
       "    </tr>\n",
       "  </tbody>\n",
       "</table>\n",
       "</div>"
      ],
      "text/plain": [
       "  TreatmentType  Replication  RecoveryTime\n",
       "0      TherapyA            1            10\n",
       "1      TherapyB            1            12\n",
       "2       Control            1            11\n",
       "3      TherapyA            2             9\n",
       "4      TherapyB            2            11"
      ]
     },
     "execution_count": 23,
     "metadata": {},
     "output_type": "execute_result"
    }
   ],
   "source": [
    "# Load Health Completely Randomized Design (CRD) dataset\n",
    "Data_He_CRD = pd.read_csv(\"CRD_2.csv\")\n",
    "\n",
    "# Display the first few rows of the Health CRD dataset\n",
    "Data_He_CRD.head()"
   ]
  },
  {
   "cell_type": "markdown",
   "id": "attractive-seminar",
   "metadata": {},
   "source": [
    "Null Hypothesis (H0): There is no significant difference in the mean recovery time among different treatment types.\n",
    "\n",
    "Alternative Hypothesis (H1): There is a significant difference in the mean recovery time among different treatment types.\n",
    "\n",
    "In the context of the dataset you provided:\n",
    "\n",
    "Dependent Variable (Response Variable): RecoveryTime, Independent Variable (Factor): TreatmentType"
   ]
  },
  {
   "cell_type": "markdown",
   "id": "deadly-november",
   "metadata": {},
   "source": [
    "###### TEST ANOVA ON THE MODEL"
   ]
  },
  {
   "cell_type": "code",
   "execution_count": 40,
   "id": "ecological-spider",
   "metadata": {},
   "outputs": [
    {
     "data": {
      "text/html": [
       "<div>\n",
       "<style scoped>\n",
       "    .dataframe tbody tr th:only-of-type {\n",
       "        vertical-align: middle;\n",
       "    }\n",
       "\n",
       "    .dataframe tbody tr th {\n",
       "        vertical-align: top;\n",
       "    }\n",
       "\n",
       "    .dataframe thead th {\n",
       "        text-align: right;\n",
       "    }\n",
       "</style>\n",
       "<table border=\"1\" class=\"dataframe\">\n",
       "  <thead>\n",
       "    <tr style=\"text-align: right;\">\n",
       "      <th></th>\n",
       "      <th>sum_sq</th>\n",
       "      <th>df</th>\n",
       "      <th>F</th>\n",
       "      <th>PR(&gt;F)</th>\n",
       "    </tr>\n",
       "  </thead>\n",
       "  <tbody>\n",
       "    <tr>\n",
       "      <th>TreatmentType</th>\n",
       "      <td>0.428571</td>\n",
       "      <td>2.0</td>\n",
       "      <td>0.021039</td>\n",
       "      <td>0.979192</td>\n",
       "    </tr>\n",
       "    <tr>\n",
       "      <th>Residual</th>\n",
       "      <td>397.214286</td>\n",
       "      <td>39.0</td>\n",
       "      <td>NaN</td>\n",
       "      <td>NaN</td>\n",
       "    </tr>\n",
       "  </tbody>\n",
       "</table>\n",
       "</div>"
      ],
      "text/plain": [
       "                   sum_sq    df         F    PR(>F)\n",
       "TreatmentType    0.428571   2.0  0.021039  0.979192\n",
       "Residual       397.214286  39.0       NaN       NaN"
      ]
     },
     "execution_count": 40,
     "metadata": {},
     "output_type": "execute_result"
    }
   ],
   "source": [
    "# Fit the ANOVA model for Health CRD\n",
    "model_Data_He_CRD = ols('RecoveryTime ~ TreatmentType', data=Data_He_CRD).fit()\n",
    "\n",
    "# Print ANOVA table for Health CRD\n",
    "anova_table_model_Data_He_CRD = sm.stats.anova_lm(model_Data_He_CRD, typ=2)\n",
    "anova_table_model_Data_He_CRD"
   ]
  },
  {
   "cell_type": "markdown",
   "id": "solar-russell",
   "metadata": {},
   "source": [
    "For TreatmentType, the p-value is 0.979192, which is much greater than 0.05. This indicates that there is no significant difference in mean response among different treatment types.\n",
    "The Residual row represents unexplained variability, and the F-statistic and p-value for the Residual row are not applicable.\n",
    "\n",
    "In conclusion, based on this analysis, there is no evidence to reject the null hypothesis, suggesting that there is no significant difference in the mean response among different treatment types in the health dataset."
   ]
  },
  {
   "cell_type": "markdown",
   "id": "built-twenty",
   "metadata": {},
   "source": [
    "<h5>2-Health Randomized Block Design (RBD) dataset</h5>"
   ]
  },
  {
   "cell_type": "markdown",
   "id": "level-finder",
   "metadata": {},
   "source": [
    "<h5>Description of the dataset</h5>\n",
    "\n",
    "The dataset involves an experiment where different treatments (DrugA, DrugB, Placebo) are administered by various medical professionals (Doctor1, Doctor2, Doctor3) across multiple replications. The recorded variable is the recovery time for each patient.\n",
    "\n",
    "Summary of the dataset:\n",
    "\n",
    " Treatments: DrugA, DrugB, Placebo;\n",
    " Medical Professionals: Doctor1, Doctor2, Doctor3;\n",
    " Replications: 1 to 12;\n",
    " Recovery Time: The time taken for recovery after each treatment"
   ]
  },
  {
   "cell_type": "code",
   "execution_count": 25,
   "id": "lovely-estate",
   "metadata": {},
   "outputs": [
    {
     "data": {
      "text/html": [
       "<div>\n",
       "<style scoped>\n",
       "    .dataframe tbody tr th:only-of-type {\n",
       "        vertical-align: middle;\n",
       "    }\n",
       "\n",
       "    .dataframe tbody tr th {\n",
       "        vertical-align: top;\n",
       "    }\n",
       "\n",
       "    .dataframe thead th {\n",
       "        text-align: right;\n",
       "    }\n",
       "</style>\n",
       "<table border=\"1\" class=\"dataframe\">\n",
       "  <thead>\n",
       "    <tr style=\"text-align: right;\">\n",
       "      <th></th>\n",
       "      <th>Treatment</th>\n",
       "      <th>MedicalProfessional</th>\n",
       "      <th>Replication</th>\n",
       "      <th>RecoveryTime</th>\n",
       "    </tr>\n",
       "  </thead>\n",
       "  <tbody>\n",
       "    <tr>\n",
       "      <th>0</th>\n",
       "      <td>DrugA</td>\n",
       "      <td>Doctor1</td>\n",
       "      <td>1</td>\n",
       "      <td>10</td>\n",
       "    </tr>\n",
       "    <tr>\n",
       "      <th>1</th>\n",
       "      <td>DrugB</td>\n",
       "      <td>Doctor1</td>\n",
       "      <td>1</td>\n",
       "      <td>12</td>\n",
       "    </tr>\n",
       "    <tr>\n",
       "      <th>2</th>\n",
       "      <td>Placebo</td>\n",
       "      <td>Doctor1</td>\n",
       "      <td>1</td>\n",
       "      <td>11</td>\n",
       "    </tr>\n",
       "    <tr>\n",
       "      <th>3</th>\n",
       "      <td>DrugA</td>\n",
       "      <td>Doctor2</td>\n",
       "      <td>2</td>\n",
       "      <td>9</td>\n",
       "    </tr>\n",
       "    <tr>\n",
       "      <th>4</th>\n",
       "      <td>DrugB</td>\n",
       "      <td>Doctor2</td>\n",
       "      <td>2</td>\n",
       "      <td>11</td>\n",
       "    </tr>\n",
       "  </tbody>\n",
       "</table>\n",
       "</div>"
      ],
      "text/plain": [
       "  Treatment MedicalProfessional  Replication  RecoveryTime\n",
       "0     DrugA             Doctor1            1            10\n",
       "1     DrugB             Doctor1            1            12\n",
       "2   Placebo             Doctor1            1            11\n",
       "3     DrugA             Doctor2            2             9\n",
       "4     DrugB             Doctor2            2            11"
      ]
     },
     "execution_count": 25,
     "metadata": {},
     "output_type": "execute_result"
    }
   ],
   "source": [
    "# Load Health Randomized Block Design (RBD) dataset\n",
    "Data_He_RBD = pd.read_csv(\"RBD_2.csv\")\n",
    "\n",
    "# Display the first few rows of the Health RBD dataset\n",
    "Data_He_RBD.head()"
   ]
  },
  {
   "cell_type": "markdown",
   "id": "received-permit",
   "metadata": {},
   "source": [
    "Null Hypothesis (H0): There is no significant difference in the mean recovery time among different treatments and medical professionals.\n",
    "\n",
    "Alternative Hypothesis (H1): There is a significant difference in the mean recovery time among different treatments and medical professionals.\n",
    "\n",
    "In the context of the dataset you provided:\n",
    "\n",
    "Dependent Variable (Response Variable): RecoveryTime, Independent Variables (Factors): Treatment, MedicalProfessional"
   ]
  },
  {
   "cell_type": "markdown",
   "id": "mexican-voltage",
   "metadata": {},
   "source": [
    "###### TEST ANOVA ON THE MODEL"
   ]
  },
  {
   "cell_type": "code",
   "execution_count": 41,
   "id": "external-investment",
   "metadata": {},
   "outputs": [
    {
     "data": {
      "text/html": [
       "<div>\n",
       "<style scoped>\n",
       "    .dataframe tbody tr th:only-of-type {\n",
       "        vertical-align: middle;\n",
       "    }\n",
       "\n",
       "    .dataframe tbody tr th {\n",
       "        vertical-align: top;\n",
       "    }\n",
       "\n",
       "    .dataframe thead th {\n",
       "        text-align: right;\n",
       "    }\n",
       "</style>\n",
       "<table border=\"1\" class=\"dataframe\">\n",
       "  <thead>\n",
       "    <tr style=\"text-align: right;\">\n",
       "      <th></th>\n",
       "      <th>sum_sq</th>\n",
       "      <th>df</th>\n",
       "      <th>F</th>\n",
       "      <th>PR(&gt;F)</th>\n",
       "    </tr>\n",
       "  </thead>\n",
       "  <tbody>\n",
       "    <tr>\n",
       "      <th>C(Treatment)</th>\n",
       "      <td>0.055556</td>\n",
       "      <td>2.0</td>\n",
       "      <td>0.002863</td>\n",
       "      <td>0.997141</td>\n",
       "    </tr>\n",
       "    <tr>\n",
       "      <th>C(MedicalProfessional)</th>\n",
       "      <td>28.388889</td>\n",
       "      <td>2.0</td>\n",
       "      <td>1.462966</td>\n",
       "      <td>0.247095</td>\n",
       "    </tr>\n",
       "    <tr>\n",
       "      <th>Residual</th>\n",
       "      <td>300.777778</td>\n",
       "      <td>31.0</td>\n",
       "      <td>NaN</td>\n",
       "      <td>NaN</td>\n",
       "    </tr>\n",
       "  </tbody>\n",
       "</table>\n",
       "</div>"
      ],
      "text/plain": [
       "                            sum_sq    df         F    PR(>F)\n",
       "C(Treatment)              0.055556   2.0  0.002863  0.997141\n",
       "C(MedicalProfessional)   28.388889   2.0  1.462966  0.247095\n",
       "Residual                300.777778  31.0       NaN       NaN"
      ]
     },
     "execution_count": 41,
     "metadata": {},
     "output_type": "execute_result"
    }
   ],
   "source": [
    "# Perform RBD analysis using ANOVA for Health\n",
    "model_Data_He_RBD = ols('RecoveryTime ~ C(Treatment) + C(MedicalProfessional)', data=Data_He_RBD).fit()\n",
    "\n",
    "# Print ANOVA table for Health RBD\n",
    "anova_table_model_Data_He_RBD = sm.stats.anova_lm(model_Data_He_RBD, typ=2)\n",
    "anova_table_model_Data_He_RBD"
   ]
  },
  {
   "cell_type": "markdown",
   "id": "favorite-wound",
   "metadata": {},
   "source": [
    "For Treatment, the p-value is 0.997141, which is much greater than 0.05. This indicates that there is no significant difference in mean response among different treatments.\n",
    "For MedicalProfessional, the p-value is 0.247095, which is greater than 0.05. This suggests that there is no strong evidence to reject the null hypothesis for the MedicalProfessional factor.\n",
    "The Residual row represents unexplained variability, and the F-statistic and p-value for the Residual row are not applicable.\n",
    "\n",
    "In conclusion, based on this analysis, there is no significant difference in mean response among different treatments or medical professionals in the health dataset"
   ]
  },
  {
   "cell_type": "markdown",
   "id": "narrative-concern",
   "metadata": {},
   "source": [
    "<h5>3-Health Latin Square Design (LSD) dataset</h5>"
   ]
  },
  {
   "cell_type": "markdown",
   "id": "excellent-stuart",
   "metadata": {},
   "source": [
    "<h5>Description of the dataset</h5>\n",
    "\n",
    "The dataset involves an experiment with different treatments (WeightGainDrug_A, WeightLossDrug_B, Control) administered in various rows and columns across multiple replications. The recorded variable is the recovery time for each patient.\n",
    "\n",
    "Summary of the dataset:\n",
    "\n",
    " Treatments: WeightGainDrug_A, WeightLossDrug_B, Control;\n",
    " Rows: 1 to 3;\n",
    " Columns: 1 to 3;\n",
    " Replications: 1 to 13;\n",
    " Recovery Time: The time taken for recovery after each treatment"
   ]
  },
  {
   "cell_type": "code",
   "execution_count": 27,
   "id": "remarkable-partner",
   "metadata": {},
   "outputs": [
    {
     "data": {
      "text/html": [
       "<div>\n",
       "<style scoped>\n",
       "    .dataframe tbody tr th:only-of-type {\n",
       "        vertical-align: middle;\n",
       "    }\n",
       "\n",
       "    .dataframe tbody tr th {\n",
       "        vertical-align: top;\n",
       "    }\n",
       "\n",
       "    .dataframe thead th {\n",
       "        text-align: right;\n",
       "    }\n",
       "</style>\n",
       "<table border=\"1\" class=\"dataframe\">\n",
       "  <thead>\n",
       "    <tr style=\"text-align: right;\">\n",
       "      <th></th>\n",
       "      <th>Treatment</th>\n",
       "      <th>Rows</th>\n",
       "      <th>Columns</th>\n",
       "      <th>Replication</th>\n",
       "      <th>RecoveryTime</th>\n",
       "    </tr>\n",
       "  </thead>\n",
       "  <tbody>\n",
       "    <tr>\n",
       "      <th>0</th>\n",
       "      <td>WeightGainDrug_A</td>\n",
       "      <td>1</td>\n",
       "      <td>1</td>\n",
       "      <td>1</td>\n",
       "      <td>10</td>\n",
       "    </tr>\n",
       "    <tr>\n",
       "      <th>1</th>\n",
       "      <td>WeightLossDrug_B</td>\n",
       "      <td>2</td>\n",
       "      <td>2</td>\n",
       "      <td>1</td>\n",
       "      <td>12</td>\n",
       "    </tr>\n",
       "    <tr>\n",
       "      <th>2</th>\n",
       "      <td>Control</td>\n",
       "      <td>3</td>\n",
       "      <td>3</td>\n",
       "      <td>1</td>\n",
       "      <td>11</td>\n",
       "    </tr>\n",
       "    <tr>\n",
       "      <th>3</th>\n",
       "      <td>WeightGainDrug_A</td>\n",
       "      <td>2</td>\n",
       "      <td>3</td>\n",
       "      <td>2</td>\n",
       "      <td>9</td>\n",
       "    </tr>\n",
       "    <tr>\n",
       "      <th>4</th>\n",
       "      <td>WeightLossDrug_B</td>\n",
       "      <td>3</td>\n",
       "      <td>1</td>\n",
       "      <td>2</td>\n",
       "      <td>11</td>\n",
       "    </tr>\n",
       "  </tbody>\n",
       "</table>\n",
       "</div>"
      ],
      "text/plain": [
       "          Treatment  Rows  Columns  Replication  RecoveryTime\n",
       "0  WeightGainDrug_A     1        1            1            10\n",
       "1  WeightLossDrug_B     2        2            1            12\n",
       "2           Control     3        3            1            11\n",
       "3  WeightGainDrug_A     2        3            2             9\n",
       "4  WeightLossDrug_B     3        1            2            11"
      ]
     },
     "execution_count": 27,
     "metadata": {},
     "output_type": "execute_result"
    }
   ],
   "source": [
    "# Load Health Latin Square Design (LSD) dataset\n",
    "Data_He_LSD = pd.read_csv(\"LSD_2.csv\")\n",
    "\n",
    "# Display the first few rows of the Health LSD dataset\n",
    "Data_He_LSD.head()"
   ]
  },
  {
   "cell_type": "markdown",
   "id": "fantastic-mainstream",
   "metadata": {},
   "source": [
    "Null Hypothesis (H0): There is no significant difference in the mean recovery time among different treatments, rows, columns, and replications.\n",
    "\n",
    "Alternative Hypothesis (H1): There is a significant difference in the mean recovery time among different treatments, rows, columns, and replications.\n",
    "\n",
    "In the context of the dataset you provided:\n",
    "\n",
    "Dependent Variable (Response Variable): RecoveryTime, Independent Variables (Factors): Treatment, Rows, Columns, Replication"
   ]
  },
  {
   "cell_type": "markdown",
   "id": "static-update",
   "metadata": {},
   "source": [
    "######  TEST ANOVA ON THE MODEL"
   ]
  },
  {
   "cell_type": "code",
   "execution_count": 42,
   "id": "existing-poker",
   "metadata": {},
   "outputs": [
    {
     "data": {
      "text/html": [
       "<div>\n",
       "<style scoped>\n",
       "    .dataframe tbody tr th:only-of-type {\n",
       "        vertical-align: middle;\n",
       "    }\n",
       "\n",
       "    .dataframe tbody tr th {\n",
       "        vertical-align: top;\n",
       "    }\n",
       "\n",
       "    .dataframe thead th {\n",
       "        text-align: right;\n",
       "    }\n",
       "</style>\n",
       "<table border=\"1\" class=\"dataframe\">\n",
       "  <thead>\n",
       "    <tr style=\"text-align: right;\">\n",
       "      <th></th>\n",
       "      <th>sum_sq</th>\n",
       "      <th>df</th>\n",
       "      <th>F</th>\n",
       "      <th>PR(&gt;F)</th>\n",
       "    </tr>\n",
       "  </thead>\n",
       "  <tbody>\n",
       "    <tr>\n",
       "      <th>C(Treatment)</th>\n",
       "      <td>1.732729</td>\n",
       "      <td>2.0</td>\n",
       "      <td>0.286359</td>\n",
       "      <td>0.754021</td>\n",
       "    </tr>\n",
       "    <tr>\n",
       "      <th>C(Rows)</th>\n",
       "      <td>2.597660</td>\n",
       "      <td>2.0</td>\n",
       "      <td>0.429302</td>\n",
       "      <td>0.656822</td>\n",
       "    </tr>\n",
       "    <tr>\n",
       "      <th>C(Columns)</th>\n",
       "      <td>1.382479</td>\n",
       "      <td>2.0</td>\n",
       "      <td>0.228475</td>\n",
       "      <td>0.797795</td>\n",
       "    </tr>\n",
       "    <tr>\n",
       "      <th>C(Replication)</th>\n",
       "      <td>276.933861</td>\n",
       "      <td>12.0</td>\n",
       "      <td>7.627900</td>\n",
       "      <td>0.000043</td>\n",
       "    </tr>\n",
       "    <tr>\n",
       "      <th>Residual</th>\n",
       "      <td>60.508976</td>\n",
       "      <td>20.0</td>\n",
       "      <td>NaN</td>\n",
       "      <td>NaN</td>\n",
       "    </tr>\n",
       "  </tbody>\n",
       "</table>\n",
       "</div>"
      ],
      "text/plain": [
       "                    sum_sq    df         F    PR(>F)\n",
       "C(Treatment)      1.732729   2.0  0.286359  0.754021\n",
       "C(Rows)           2.597660   2.0  0.429302  0.656822\n",
       "C(Columns)        1.382479   2.0  0.228475  0.797795\n",
       "C(Replication)  276.933861  12.0  7.627900  0.000043\n",
       "Residual         60.508976  20.0       NaN       NaN"
      ]
     },
     "execution_count": 42,
     "metadata": {},
     "output_type": "execute_result"
    }
   ],
   "source": [
    "# Create ANOVA model for Health LSD\n",
    "model_Data_He_LSD = ols('RecoveryTime ~ C(Treatment) + C(Rows) + C(Columns) + C(Replication)', data=Data_He_LSD).fit()\n",
    "\n",
    "# Perform ANOVA analysis for Health LSD\n",
    "anova_table_model_Data_He_LSD = sm.stats.anova_lm(model_Data_He_LSD, typ=2)\n",
    "\n",
    "# Print ANOVA table for Health LSD\n",
    "anova_table_model_Data_He_LSD"
   ]
  },
  {
   "cell_type": "markdown",
   "id": "subjective-harvard",
   "metadata": {},
   "source": [
    "For Treatment, Rows, and Columns, the p-values are greater than 0.05, suggesting that there is no significant difference in mean response among different levels of these factors.\n",
    "For Replication, the p-value is 0.000043, which is less than 0.05. This indicates a significant difference in mean response among different replications.\n",
    "The Residual row represents unexplained variability, and the F-statistic and p-value for the Residual row are not applicable.\n",
    "\n",
    "In conclusion, the LSD analysis suggests a significant difference in mean response among different replications in the health dataset, while no significant differences are observed for Treatment, Rows, and Columns."
   ]
  },
  {
   "cell_type": "markdown",
   "id": "necessary-phone",
   "metadata": {},
   "source": [
    "## REFERENCES"
   ]
  },
  {
   "cell_type": "markdown",
   "id": "surprised-chemical",
   "metadata": {},
   "source": [
    "https://www.easybiologyclass.com/types-of-experimental-designs-in-statistics-rbd-crd-lsd-factorial-designs/\n",
    "\n",
    "https://iastate.pressbooks.pub/quantitativeplantbreeding/chapter/randomized-complete-block-design/\n",
    "\n",
    "https://epirhandbook.com/en/descriptive-tables.html"
   ]
  }
 ],
 "metadata": {
  "kernelspec": {
   "display_name": "Python 3",
   "language": "python",
   "name": "python3"
  },
  "language_info": {
   "codemirror_mode": {
    "name": "ipython",
    "version": 3
   },
   "file_extension": ".py",
   "mimetype": "text/x-python",
   "name": "python",
   "nbconvert_exporter": "python",
   "pygments_lexer": "ipython3",
   "version": "3.9.2"
  }
 },
 "nbformat": 4,
 "nbformat_minor": 5
}
